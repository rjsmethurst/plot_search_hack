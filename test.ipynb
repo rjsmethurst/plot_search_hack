{
 "cells": [
  {
   "cell_type": "code",
   "execution_count": 1,
   "id": "07a5449f",
   "metadata": {},
   "outputs": [],
   "source": [
    "import capsearch as cap"
   ]
  },
  {
   "cell_type": "code",
   "execution_count": 16,
   "id": "2003ded2",
   "metadata": {},
   "outputs": [],
   "source": [
    "import os\n",
    "import re"
   ]
  },
  {
   "cell_type": "code",
   "execution_count": 18,
   "id": "3c59ddd9",
   "metadata": {},
   "outputs": [
    {
     "data": {
      "text/plain": [
       "['fsig8-z__lensing.pdf',\n",
       " 'lensing-ommh2.pdf',\n",
       " 'planck-rsd-15-18.pdf',\n",
       " 'omegak-omegam.pdf',\n",
       " 'planck_spt_TEplik_new.pdf',\n",
       " 'tau_simall_ee.pdf',\n",
       " 'H0-ladder.pdf',\n",
       " 'lmax-lmin-errors.pdf',\n",
       " 'bbn_yhe_neff.pdf',\n",
       " 'recombination_TT.pdf',\n",
       " 'BAO-data-z_lensing_Hz.pdf',\n",
       " 'fsig8-FAP.pdf',\n",
       " 'Power_spectra_2018_minus_2015_cropped.pdf',\n",
       " '217x217_cleaned.pdf',\n",
       " 'compare_2015_base_plikHM_TTTEEE_lowTEB_newLowE.pdf',\n",
       " 'nrun_ns.pdf',\n",
       " 'aa.cls',\n",
       " 'mnu_H0_sigma8_noRiess.pdf',\n",
       " 'DES-shear-spec-plus.pdf',\n",
       " 'meffsterile_nnu.pdf',\n",
       " 'coadded_TE.pdf',\n",
       " 'DES-lensing-astro_with_KIDS.pdf',\n",
       " 'DM-H-BAO_TT-vs-TTTEEElens.pdf',\n",
       " 'BAO-data-z_lensing.pdf',\n",
       " 'compare_2015_base_plikHM_TT_lowTEB_newLowE.pdf',\n",
       " 'omega0.pdf',\n",
       " 'bbn_c.pdf',\n",
       " 'coadded_TT.pdf',\n",
       " 'ms.tex',\n",
       " 'mu_eta.pdf',\n",
       " 'bbn_a.pdf',\n",
       " '143x143_cleaned_cropped.pdf',\n",
       " 'lensing-CL.pdf',\n",
       " 'Alens_MGcomb.pdf',\n",
       " 'lcdm_TT_residuals_omegamh2.jpg',\n",
       " 'reio_hists.pdf',\n",
       " 'grid_1paramext.pdf',\n",
       " 'recombination_EE.pdf',\n",
       " 'planck_spt_EEplik_new.pdf',\n",
       " 'DES-joint-s8-omm.pdf',\n",
       " 'lmax_lmin_801_compare_EE.pdf',\n",
       " 'ns_r_inflation.pdf',\n",
       " 'plot1d_2018_TTTEEE_2018_minus_neweffects_PAPER_Params_base.pdf',\n",
       " 'pol_rectangle_CamSpecHM.pdf',\n",
       " 'w0_wa.pdf',\n",
       " 'ann_2col.pdf',\n",
       " 'nnu-H0-sigma8.pdf',\n",
       " 'DES-shear-spec-minus.pdf',\n",
       " 'nnu_limits_decoupling.pdf',\n",
       " 'Alens.pdf',\n",
       " 'Pantheon.pdf',\n",
       " 'coadded_EE.pdf',\n",
       " 'lensing_kernels.pdf',\n",
       " '143x217_cleaned_cropped.pdf',\n",
       " 'pol_rectangle.pdf',\n",
       " 'recombination_xe-modes.pdf',\n",
       " 'bbn_yhe.pdf',\n",
       " 'Alens_degeneracies.pdf']"
      ]
     },
     "execution_count": 18,
     "metadata": {},
     "output_type": "execute_result"
    }
   ],
   "source": [
    "for paper in os.listdir('papers'):\n",
    "    for p in os.listdir(f'{paper}'):\n"
   ]
  },
  {
   "cell_type": "code",
   "execution_count": 15,
   "id": "f1c6211a",
   "metadata": {},
   "outputs": [
    {
     "name": "stdout",
     "output_type": "stream",
     "text": [
      "\u001b[1m\u001b[34m1502.01589\u001b[m\u001b[m \u001b[1m\u001b[34m1807.06209\u001b[m\u001b[m\n"
     ]
    }
   ],
   "source": []
  },
  {
   "cell_type": "code",
   "execution_count": null,
   "id": "27d500dc",
   "metadata": {},
   "outputs": [],
   "source": []
  }
 ],
 "metadata": {
  "kernelspec": {
   "display_name": "Python 3 (ipykernel)",
   "language": "python",
   "name": "python3"
  },
  "language_info": {
   "codemirror_mode": {
    "name": "ipython",
    "version": 3
   },
   "file_extension": ".py",
   "mimetype": "text/x-python",
   "name": "python",
   "nbconvert_exporter": "python",
   "pygments_lexer": "ipython3",
   "version": "3.8.5"
  }
 },
 "nbformat": 4,
 "nbformat_minor": 5
}
