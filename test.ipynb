{
 "cells": [
  {
   "cell_type": "code",
   "execution_count": 1,
   "id": "07a5449f",
   "metadata": {},
   "outputs": [],
   "source": [
    "import capsearch as cap\n",
    "import os\n",
    "import re"
   ]
  },
  {
   "cell_type": "code",
   "execution_count": 61,
   "id": "2003ded2",
   "metadata": {},
   "outputs": [
    {
     "name": "stdout",
     "output_type": "stream",
     "text": [
      "ms.tex\n",
      "aa201833051.tex\n",
      "authors.tex\n"
     ]
    }
   ],
   "source": [
    "# write prototype here\n",
    "\n",
    "for paper in os.listdir('papers'):\n",
    "    for p in os.listdir(f'papers/{paper}'):\n",
    "        ps = p.split(\".\")[-1]\n",
    "        if ps=='tex':\n",
    "            print (p)"
   ]
  },
  {
   "cell_type": "code",
   "execution_count": null,
   "id": "dc6329fe",
   "metadata": {},
   "outputs": [],
   "source": []
  },
  {
   "cell_type": "code",
   "execution_count": null,
   "id": "7645ca33",
   "metadata": {},
   "outputs": [],
   "source": []
  },
  {
   "cell_type": "code",
   "execution_count": null,
   "id": "d17d07f1",
   "metadata": {},
   "outputs": [],
   "source": []
  },
  {
   "cell_type": "code",
   "execution_count": null,
   "id": "7e517486",
   "metadata": {},
   "outputs": [],
   "source": []
  },
  {
   "cell_type": "code",
   "execution_count": null,
   "id": "a940475a",
   "metadata": {},
   "outputs": [],
   "source": []
  },
  {
   "cell_type": "code",
   "execution_count": 31,
   "id": "3c59ddd9",
   "metadata": {},
   "outputs": [
    {
     "name": "stdout",
     "output_type": "stream",
     "text": [
      "ms.tex\n",
      "grid_bbn.tex\n",
      "datasets_clusters.tex\n",
      "section4.tex\n",
      "grid.tex\n",
      "macros.tex\n",
      "datasets_summary.tex\n",
      "grid_DM.tex\n",
      "grid_early_iso.tex\n",
      "grid_neutrino.tex\n",
      "LCDM_result_table.tex\n",
      "datasets_additional.tex\n",
      "title.tex\n",
      "datasets_bao.tex\n",
      "planck_parameters_2015.tex\n",
      "grid_early_curv.tex\n",
      "abstract.tex\n",
      "acknowledgements.tex\n",
      "planck_only.tex\n",
      "model_and_params.tex\n",
      "grid_early_inf.tex\n",
      "grid_defects.tex\n",
      "datasets.tex\n",
      "datasets_H0.tex\n",
      "introduction.tex\n",
      "grid_1param_result_table.tex\n",
      "conclusions.tex\n",
      "grid_Recomb.tex\n",
      "datasets_SNe.tex\n",
      "datasets_CMBlensing.tex\n",
      "A15_Cosmological_parameters_authors_and_institutes.tex\n",
      "Planck.tex\n",
      "references.tex\n",
      "grid_DE.tex\n"
     ]
    }
   ],
   "source": [
    "for paper in os.listdir('papers'):\n",
    "    for p in os.listdir(f'papers/{paper}'):\n",
    "        ps = p.split(\".\")[-1]\n",
    "        if ps=='tex':\n",
    "            print (p)\n",
    "            #c = cap.find_caption(f'papers/{paper}/{p}')\n",
    "            #if len(c)>0:\n",
    "            #    print (c)\n"
   ]
  },
  {
   "cell_type": "code",
   "execution_count": 48,
   "id": "96043250",
   "metadata": {},
   "outputs": [
    {
     "name": "stdout",
     "output_type": "stream",
     "text": [
      "\u001b[1m\u001b[34m1502.01589\u001b[m\u001b[m \u001b[1m\u001b[34m1807.06209\u001b[m\u001b[m\n"
     ]
    }
   ],
   "source": [
    "!ls papers/"
   ]
  },
  {
   "cell_type": "code",
   "execution_count": 1,
   "id": "f1c6211a",
   "metadata": {},
   "outputs": [],
   "source": [
    "pth = \"papers/1807.06209/ms.tex\""
   ]
  },
  {
   "cell_type": "code",
   "execution_count": null,
   "id": "ffb7eb2d",
   "metadata": {},
   "outputs": [],
   "source": [
    "def find_authors(file_path):\n",
    "    with open(file_path, 'r', encoding='utf-8') as tex_file:\n",
    "        tex_content = tex_file.read()\n",
    "\n",
    "    # Define a regular expression pattern to match strings starting with \"caption{\"\n",
    "    caption_pattern = re.compile(r'Author[s]*: ([\\w\\s,]+)')\n",
    "    print (caption_pattern)\n",
    "\n",
    "    # Find and extract all strings starting with \"caption{\"\n",
    "    matches = caption_pattern.findall(tex_content)\n",
    "\n",
    "    # Now, 'matches' will contain all the strings that start with \"caption{\"\n",
    "    match_string = [re.sub(r\"[^a-zA-Z\\s\\n]\", \"\", match) for match in matches]\n",
    "\n",
    "    return match_string\n",
    "\n",
    "    "
   ]
  },
  {
   "cell_type": "code",
   "execution_count": 59,
   "id": "f53a21d5",
   "metadata": {},
   "outputs": [
    {
     "data": {
      "text/plain": [
       "['vglue', 'mmPlanck', 'results', 'VI', 'Cosmological', 'parameters']"
      ]
     },
     "execution_count": 59,
     "metadata": {},
     "output_type": "execute_result"
    }
   ],
   "source": [
    "cap.find_title(pth).split()"
   ]
  },
  {
   "cell_type": "markdown",
   "id": "8741bac1",
   "metadata": {},
   "source": []
  },
  {
   "cell_type": "code",
   "execution_count": 54,
   "id": "27d500dc",
   "metadata": {},
   "outputs": [],
   "source": [
    "list_of_words = cap.find_caption(pth)[0].split()"
   ]
  },
  {
   "cell_type": "code",
   "execution_count": 55,
   "id": "eced1a41",
   "metadata": {},
   "outputs": [
    {
     "data": {
      "text/plain": [
       "['Baselcdm',\n",
       " 'and',\n",
       " 'parameter',\n",
       " 'constraint',\n",
       " 'contours',\n",
       " 'from',\n",
       " 'the',\n",
       " 'CMB',\n",
       " 'power',\n",
       " 'spectra',\n",
       " 'using',\n",
       " 'ell',\n",
       " 'le',\n",
       " 'blue',\n",
       " 'compared',\n",
       " 'to',\n",
       " 'ell',\n",
       " 'ge',\n",
       " 'red',\n",
       " 'All',\n",
       " 'results',\n",
       " 'use',\n",
       " 'the',\n",
       " 'pliklite',\n",
       " 'planck',\n",
       " 'likelihood',\n",
       " 'and',\n",
       " 'also',\n",
       " 'include',\n",
       " 'the',\n",
       " 'lowell',\n",
       " 'simall',\n",
       " 'lowE',\n",
       " 'likelihood',\n",
       " 'to',\n",
       " 'constrain',\n",
       " 'the',\n",
       " 'optical',\n",
       " 'depth',\n",
       " 'tau',\n",
       " 'the',\n",
       " 'commander',\n",
       " 'likelihood',\n",
       " 'is',\n",
       " 'used',\n",
       " 'for',\n",
       " 'temperature',\n",
       " 'multipoles',\n",
       " 'ell',\n",
       " 'The',\n",
       " 'lower',\n",
       " 'triangle',\n",
       " 'contains',\n",
       " 'the',\n",
       " 'planck',\n",
       " 'temperature',\n",
       " 'likelihoods',\n",
       " 'which',\n",
       " 'show',\n",
       " 'a',\n",
       " 'moderate',\n",
       " 'tension',\n",
       " 'between',\n",
       " 'high',\n",
       " 'and',\n",
       " 'low',\n",
       " 'multipoles',\n",
       " 'however',\n",
       " 'they',\n",
       " 'intersect',\n",
       " 'in',\n",
       " 'a',\n",
       " 'region',\n",
       " 'of',\n",
       " 'parameter',\n",
       " 'space',\n",
       " 'consistent',\n",
       " 'with',\n",
       " 'the',\n",
       " 'nearlyindependent',\n",
       " 'constraint',\n",
       " 'from',\n",
       " 'EElensing',\n",
       " 'combined',\n",
       " 'with',\n",
       " 'a',\n",
       " 'conservative',\n",
       " 'prior',\n",
       " 'Omb',\n",
       " 'h',\n",
       " 'pm',\n",
       " 'motivated',\n",
       " 'by',\n",
       " 'elementabundance',\n",
       " 'observations',\n",
       " 'green',\n",
       " 'The',\n",
       " 'upper',\n",
       " 'triangle',\n",
       " 'shows',\n",
       " 'the',\n",
       " 'equivalent',\n",
       " 'results',\n",
       " 'from',\n",
       " 'planckall',\n",
       " 'at',\n",
       " 'low',\n",
       " 'and',\n",
       " 'high',\n",
       " 'multipoles',\n",
       " 'The',\n",
       " 'full',\n",
       " 'combined',\n",
       " 'result',\n",
       " 'from',\n",
       " 'planckall',\n",
       " 'is',\n",
       " 'shown',\n",
       " 'as',\n",
       " 'the',\n",
       " 'navy',\n",
       " 'contours',\n",
       " 'The',\n",
       " 'unfilled',\n",
       " 'grey',\n",
       " 'contours',\n",
       " 'show',\n",
       " 'the',\n",
       " 'result',\n",
       " 'for',\n",
       " 'multipoles',\n",
       " 'le',\n",
       " 'ell',\n",
       " 'le',\n",
       " 'that',\n",
       " 'is',\n",
       " 'removing',\n",
       " 'the',\n",
       " 'lowell',\n",
       " 'commander',\n",
       " 'likelihood',\n",
       " 'that',\n",
       " 'pulls',\n",
       " 'parameters',\n",
       " 'to',\n",
       " 'give',\n",
       " 'lower',\n",
       " 'temperature',\n",
       " 'power',\n",
       " 'due',\n",
       " 'to',\n",
       " 'the',\n",
       " 'dip',\n",
       " 'below',\n",
       " 'ell',\n",
       " 'approx',\n",
       " 'The',\n",
       " 'diagonal',\n",
       " 'plots',\n",
       " 'are',\n",
       " 'the',\n",
       " 'marginalized',\n",
       " 'parameter',\n",
       " 'constraints',\n",
       " 'where',\n",
       " 'results',\n",
       " 'corresponding',\n",
       " 'to',\n",
       " 'the',\n",
       " 'lower',\n",
       " 'triangle',\n",
       " 'are',\n",
       " 'shown',\n",
       " 'dashed',\n",
       " 'while',\n",
       " 'the',\n",
       " 'upper',\n",
       " 'triangle',\n",
       " 'are',\n",
       " 'the',\n",
       " 'solid',\n",
       " 'curves']"
      ]
     },
     "execution_count": 55,
     "metadata": {},
     "output_type": "execute_result"
    }
   ],
   "source": [
    "list_of_words"
   ]
  },
  {
   "cell_type": "code",
   "execution_count": null,
   "id": "772b1217",
   "metadata": {},
   "outputs": [],
   "source": []
  }
 ],
 "metadata": {
  "kernelspec": {
   "display_name": "Python 3 (ipykernel)",
   "language": "python",
   "name": "python3"
  },
  "language_info": {
   "codemirror_mode": {
    "name": "ipython",
    "version": 3
   },
   "file_extension": ".py",
   "mimetype": "text/x-python",
   "name": "python",
   "nbconvert_exporter": "python",
   "pygments_lexer": "ipython3",
   "version": "3.8.5"
  }
 },
 "nbformat": 4,
 "nbformat_minor": 5
}
